{
 "cells": [
  {
   "cell_type": "code",
   "execution_count": 1,
   "id": "893a9ecf",
   "metadata": {},
   "outputs": [
    {
     "name": "stdout",
     "output_type": "stream",
     "text": [
      "Requirement already satisfied: opencv-python in c:\\users\\competent\\anaconda3\\lib\\site-packages (4.7.0.72)\n",
      "Requirement already satisfied: numpy>=1.17.0 in c:\\users\\competent\\anaconda3\\lib\\site-packages (from opencv-python) (1.21.5)\n",
      "Note: you may need to restart the kernel to use updated packages.\n"
     ]
    }
   ],
   "source": [
    "pip install opencv-python"
   ]
  },
  {
   "cell_type": "code",
   "execution_count": 2,
   "id": "328d34ea",
   "metadata": {},
   "outputs": [],
   "source": [
    "import cv2"
   ]
  },
  {
   "cell_type": "code",
   "execution_count": 3,
   "id": "981633de",
   "metadata": {},
   "outputs": [],
   "source": [
    "# Read the image and convert it to grayscale\n",
    "image = cv2.imread('C:/Users/Competent/Desktop/wallpapertip_white-dog-wallpaper_855136.jpg')\n",
    "gray_image = cv2.cvtColor(image, cv2.COLOR_BGR2GRAY)"
   ]
  },
  {
   "cell_type": "code",
   "execution_count": 4,
   "id": "c197f3df",
   "metadata": {},
   "outputs": [],
   "source": [
    "# Invert the grayscale image\n",
    "inverted_gray_image = 255 - gray_image"
   ]
  },
  {
   "cell_type": "code",
   "execution_count": 5,
   "id": "e947d928",
   "metadata": {},
   "outputs": [],
   "source": [
    "# Blur the inverted image using Gaussian blur\n",
    "blurred_image = cv2.GaussianBlur(inverted_gray_image, (21, 21), 0)"
   ]
  },
  {
   "cell_type": "code",
   "execution_count": 6,
   "id": "e5b928c0",
   "metadata": {},
   "outputs": [],
   "source": [
    "# Invert the blurred image\n",
    "inverted_blurred_image = 255 - blurred_image"
   ]
  },
  {
   "cell_type": "code",
   "execution_count": 7,
   "id": "7d797fbf",
   "metadata": {},
   "outputs": [],
   "source": [
    "# Create the pencil sketch by blending the grayscale image and the inverted blurred image\n",
    "pencil_sketch = cv2.divide(gray_image, inverted_blurred_image, scale=256.0)"
   ]
  },
  {
   "cell_type": "code",
   "execution_count": null,
   "id": "42488be5",
   "metadata": {},
   "outputs": [],
   "source": [
    "# Show the original image and the pencil sketch\n",
    "cv2.imshow('Original Image', image)\n",
    "cv2.imshow('Pencil Sketch', pencil_sketch)\n",
    "cv2.waitKey(0)\n",
    "cv2.destroyAllWindows()"
   ]
  }
 ],
 "metadata": {
  "kernelspec": {
   "display_name": "Python 3 (ipykernel)",
   "language": "python",
   "name": "python3"
  },
  "language_info": {
   "codemirror_mode": {
    "name": "ipython",
    "version": 3
   },
   "file_extension": ".py",
   "mimetype": "text/x-python",
   "name": "python",
   "nbconvert_exporter": "python",
   "pygments_lexer": "ipython3",
   "version": "3.9.12"
  }
 },
 "nbformat": 4,
 "nbformat_minor": 5
}
